{
 "cells": [
  {
   "cell_type": "code",
   "execution_count": null,
   "metadata": {
    "collapsed": true
   },
   "outputs": [],
   "source": [
    "\"\"\"\n",
    "\"Projecto\":\"Análisis_criptomonedas\"\n",
    "\"Título\":\"Análsis de criptomonedas\"\n",
    "\"Autor\":\"Cristian García Díaz\"\n",
    "\"Fecha de creación\":\"20180512\"\n",
    "\"Fecha de modificación\":\"20180512\"\n",
    "\"Fuentes:[http://www.augmentedhuman.cl/analisis-criptomonedas-en-python/,https://blog.patricktriest.com/analyzing-cryptocurrencies-python/]\n",
    "\"\"\"\n",
    "#Importamos las líbrerias necesarias\n",
    "import numpy as np\n",
    "import pandas as pd\n",
    "import pickle\n",
    "import quandl\n",
    "from datatime import datatime\n",
    "import plotly as py\n"
   ]
  }
 ],
 "metadata": {
  "kernelspec": {
   "display_name": "Python 3",
   "language": "python",
   "name": "python3"
  },
  "language_info": {
   "codemirror_mode": {
    "name": "ipython",
    "version": 3
   },
   "file_extension": ".py",
   "mimetype": "text/x-python",
   "name": "python",
   "nbconvert_exporter": "python",
   "pygments_lexer": "ipython3",
   "version": "3.6.4"
  }
 },
 "nbformat": 4,
 "nbformat_minor": 2
}
