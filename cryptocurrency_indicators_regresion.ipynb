{
 "cells": [
  {
   "cell_type": "markdown",
   "metadata": {},
   "source": [
    "# Cryptocurrency Regression\n",
    "\n",
    "### Regresión del precio del Bitcoin"
   ]
  },
  {
   "cell_type": "markdown",
   "metadata": {},
   "source": [
    "\"Projecto\" : \"Análisis_criptomonedas\"  \n",
    "\"Título\" : \"Regresión del precio de Bitcoin\"  \n",
    "\"Autor\" : \"Cristian García Díaz\"  \n",
    "\"Fecha de creación\" : \"20180821\"  \n",
    "\"Fecha de modificación\" : \"20180826\"  \n",
    "\"Fuentes\":  \n",
    ">http://scikit-learn.org/stable/auto_examples/linear_model/plot_ols.html  \n",
    ">http://www.aprendemachinelearning.com/regresion-lineal-en-espanol-con-python/  \n",
    ">http://davidcoallier.com/blog/linear-regression-from-r-to-python/  \n",
    "\n",
    ">https://datatofish.com/multiple-linear-regression-python/  \n",
    ">http://www.aprendemachinelearning.com/regresion-lineal-en-espanol-con-python/  \n",
    ">https://towardsdatascience.com/simple-and-multiple-linear-regression-in-python-c928425168f9  "
   ]
  },
  {
   "cell_type": "markdown",
   "metadata": {},
   "source": [
    "## Índice\n",
    "[1. Configuración del entorno y obtención de los datos](#1)  \n",
    "[2. Indicadores del mercado Bitcoin](#2)  \n",
    "[3. Correlación de los indicadores de Bitcoin](#3)  \n",
    "[4. Obtención y análisis del volumen cambio entre *Bitcoin* y divisas](#4) "
   ]
  },
  {
   "cell_type": "markdown",
   "metadata": {},
   "source": [
    "## <a name=\"1\"></a> 1. Configuración del entorno y obtención de los datos\n",
    "\n",
    "   - Instalar Anaconda.  \n",
    "   - Instalar las librerias, dependencias y paquetes necesarios.  \n",
    "   - Crear un entorno de trabajo.\n",
    "   - Estructura de carpetas para almacenar los datos.  \n",
    "   - Configuración de la API Key.  \n",
    "   - Función para obtención de datos desde las APIs. "
   ]
  },
  {
   "cell_type": "code",
   "execution_count": 6,
   "metadata": {},
   "outputs": [],
   "source": [
    "# Se importan las líbrerias, dependencias o paquetes necesarios\n",
    "import numpy as np\n",
    "import pandas as pd\n",
    "import pickle\n",
    "import quandl\n",
    "from datetime import datetime\n",
    "import plotly as py\n",
    "import os"
   ]
  },
  {
   "cell_type": "code",
   "execution_count": 7,
   "metadata": {},
   "outputs": [],
   "source": [
    "# API Key Quandl\n",
    "quandl.ApiConfig.api_key = \"gjodR_eNGkrTQq24cufg\""
   ]
  },
  {
   "cell_type": "code",
   "execution_count": 8,
   "metadata": {},
   "outputs": [],
   "source": [
    "# Comprobar si no esta creada la carpeta de archivos para almacenar los datos\n",
    "if not os.path.exists(\"cryptocurrency_indicators_files\"):\n",
    "    os.mkdir('cryptocurrency_indicators_files')"
   ]
  },
  {
   "cell_type": "code",
   "execution_count": 9,
   "metadata": {},
   "outputs": [],
   "source": [
    "# Se define una función Quandl para cargar los datos\n",
    "\"\"\"pickle --> para no descargar de nuevo los mismo datos\"\"\"\n",
    "\"\"\"La función devuelve un Dataframe Pandas\"\"\"\n",
    "\n",
    "def get_quandl_data(quandl_id):\n",
    "    \"\"\"Descargamos en cache los datos de Quandl\"\"\"\n",
    "    \"\"\"Se almacena un fichero .pkl como cache de los datos\"\"\"\n",
    "    cache_path='.\\cryptocurrency_indicators_files\\{}.pkl'.format(quandl_id).replace('/','-')\n",
    "    try:\n",
    "        f = open(cache_path,'rb')\n",
    "        df = pickle.load(f)\n",
    "        print('Dataset {} cargado del cache'.format(quandl_id))\n",
    "    except (OSError,IOError)as e:\n",
    "        print('Descargando {} de Quandl'.format(quandl_id))\n",
    "        df = quandl.get(quandl_id, returns=\"pandas\")\n",
    "        df.to_pickle(cache_path)\n",
    "        print('Cargado {} de {} en el cache'.format(quandl_id,cache_path))\n",
    "    return df"
   ]
  },
  {
   "cell_type": "markdown",
   "metadata": {},
   "source": [
    "## <a name=\"2\"></a> 2. Indicadores del mercado Bitcoin\n",
    "   - [2.1 Precio de Bitcoin](#2.1)\n",
    "   - [2.2 Número total de bictoins](#2.2)\n",
    "   - [2.3 Valor del mercado](#2.3) \n",
    "   - [2.4 Direcciones de bitcoin](#2.4) \n",
    "   - [2.5 Volumen de cambio de bitcoin a dóladores](#2.5) \n",
    "   - [2.6 Número de transacciones de bitcoin](#2.6) \n",
    "   - [2.7 Número de transacciones acumuladas de bitcoin](#2.7) \n",
    "   - [2.8 Hash rate de bitcoin](#2.8) \n",
    "   - [2.9 Dificultad de bitcoin](#2.9) \n",
    "   - [2.10 Recompensa de los mineros de bitcoin](#2.10) \n",
    "   \n",
    "   \"Fuentes\":  \n",
    ">https://www.quandl.com/data/BCHAIN-Blockchain"
   ]
  },
  {
   "cell_type": "markdown",
   "metadata": {},
   "source": [
    "### <a name=\"2.1\"></a> 2.1 Precio de Bitcoin"
   ]
  },
  {
   "cell_type": "code",
   "execution_count": 10,
   "metadata": {},
   "outputs": [
    {
     "name": "stdout",
     "output_type": "stream",
     "text": [
      "Dataset BCHAIN/MKPRU cargado del cache\n"
     ]
    }
   ],
   "source": [
    "# Obtención de los datos del precio\n",
    "price_btc = get_quandl_data(\"BCHAIN/MKPRU\")"
   ]
  },
  {
   "cell_type": "markdown",
   "metadata": {},
   "source": [
    "### <a name=\"2.2\"></a> 2.2 Número total de bictoins"
   ]
  },
  {
   "cell_type": "code",
   "execution_count": 11,
   "metadata": {
    "scrolled": true
   },
   "outputs": [
    {
     "name": "stdout",
     "output_type": "stream",
     "text": [
      "Dataset BCHAIN/TOTBC cargado del cache\n"
     ]
    }
   ],
   "source": [
    "# Se obtienen los datos históricos del número total de Bitcoins\n",
    "total_number_btc = get_quandl_data(\"BCHAIN/TOTBC\")"
   ]
  },
  {
   "cell_type": "markdown",
   "metadata": {},
   "source": [
    "### <a name=\"2.3\"></a> 2.3 Valor del mercado"
   ]
  },
  {
   "cell_type": "code",
   "execution_count": 12,
   "metadata": {
    "scrolled": true
   },
   "outputs": [
    {
     "name": "stdout",
     "output_type": "stream",
     "text": [
      "Dataset BCHAIN/MKTCP cargado del cache\n"
     ]
    }
   ],
   "source": [
    "# Se obtienen los datos históricos de la capitalización del mercado del Bitcoin en USD. El valor de mercado del Bitcoin\n",
    "market_capitalization_btc = get_quandl_data(\"BCHAIN/MKTCP\")"
   ]
  },
  {
   "cell_type": "markdown",
   "metadata": {},
   "source": [
    "### <a name=\"2.4\"></a> 2.4 Número de direcciones bitcoin"
   ]
  },
  {
   "cell_type": "code",
   "execution_count": 13,
   "metadata": {
    "scrolled": true
   },
   "outputs": [
    {
     "name": "stdout",
     "output_type": "stream",
     "text": [
      "Dataset BCHAIN/NADDU cargado del cache\n"
     ]
    }
   ],
   "source": [
    "# Se obtienen los datos históricos del número de direcciones Bitcoin usadas por dia\n",
    "address_btc = get_quandl_data(\"BCHAIN/NADDU\")"
   ]
  },
  {
   "cell_type": "markdown",
   "metadata": {},
   "source": [
    "### <a name=\"2.5\"></a> 2.5 Volumen de cambio de USD/BTC"
   ]
  },
  {
   "cell_type": "code",
   "execution_count": 14,
   "metadata": {
    "scrolled": true
   },
   "outputs": [
    {
     "name": "stdout",
     "output_type": "stream",
     "text": [
      "Dataset BCHAIN/TRVOU cargado del cache\n"
     ]
    }
   ],
   "source": [
    "# Se obtienen los datos históricos del volumen de cambio USD/BTC\n",
    "exchange_trade_btc = get_quandl_data(\"BCHAIN/TRVOU\")"
   ]
  },
  {
   "cell_type": "markdown",
   "metadata": {},
   "source": [
    "### <a name=\"2.6\"></a> 2.6 Número de transacciones Bitcoin"
   ]
  },
  {
   "cell_type": "code",
   "execution_count": 15,
   "metadata": {
    "scrolled": true
   },
   "outputs": [
    {
     "name": "stdout",
     "output_type": "stream",
     "text": [
      "Dataset BCHAIN/NTRAN cargado del cache\n"
     ]
    }
   ],
   "source": [
    "# Se obtienen los datos históricos de las transacciones de BTC\n",
    "transactions_btc = get_quandl_data(\"BCHAIN/NTRAN\")"
   ]
  },
  {
   "cell_type": "markdown",
   "metadata": {},
   "source": [
    "### <a name=\"2.8\"></a> 2.8 Hash rate de bitcoin "
   ]
  },
  {
   "cell_type": "code",
   "execution_count": 16,
   "metadata": {},
   "outputs": [
    {
     "name": "stdout",
     "output_type": "stream",
     "text": [
      "Dataset BCHAIN/HRATE cargado del cache\n"
     ]
    }
   ],
   "source": [
    "# Se obtienen los datos históricos de Hash rate de bitcoin\n",
    "# Es el número estimado de hash rate de Bitcoun y se miden en TeraHashes por segundo TH/s.\n",
    "# 1 TH/s = 10^12 = 1.000.000.000.000 hash/s = 1 billón de hashes por segundo.\n",
    "hash_rate_btc = get_quandl_data(\"BCHAIN/HRATE\")"
   ]
  },
  {
   "cell_type": "markdown",
   "metadata": {},
   "source": [
    "### <a name=\"2.9\"></a> 2.9 Dificultad de bitcoin"
   ]
  },
  {
   "cell_type": "code",
   "execution_count": 17,
   "metadata": {},
   "outputs": [
    {
     "name": "stdout",
     "output_type": "stream",
     "text": [
      "Dataset BCHAIN/DIFF cargado del cache\n"
     ]
    }
   ],
   "source": [
    "# Se obtienen la dificultad de Bitcoin. Es una medida de dificultad propia.\n",
    "# cada 210.000 bloques se recalcula la dificultad para crear bloques en la cadena de bloques cada 10 minutos de media.\n",
    "difficulty_btc = get_quandl_data(\"BCHAIN/DIFF\")"
   ]
  },
  {
   "cell_type": "markdown",
   "metadata": {},
   "source": [
    "### <a name=\"2.10\"></a> 2.10 Recompensa de los mineros de bitcoin "
   ]
  },
  {
   "cell_type": "code",
   "execution_count": 18,
   "metadata": {},
   "outputs": [
    {
     "name": "stdout",
     "output_type": "stream",
     "text": [
      "Dataset BCHAIN/MIREV cargado del cache\n"
     ]
    }
   ],
   "source": [
    "# Se obtienen los datos históricos de la recompensa de los mineros\n",
    "miners_revenue_btc = get_quandl_data(\"BCHAIN/MIREV\")"
   ]
  },
  {
   "cell_type": "markdown",
   "metadata": {},
   "source": [
    "## <a name=\"3\"></a>3. Correlación de los indicadores de Bitcoin"
   ]
  },
  {
   "cell_type": "code",
   "execution_count": 19,
   "metadata": {},
   "outputs": [],
   "source": [
    "# Se preparan los datos para unirlos en un único Dataframe para poder aplicar la correlación.\n",
    "mesures_name= [\"price_btc\",\n",
    "        \"total_number_btc\",\n",
    "        \"market_capitalization_btc\",\n",
    "        \"address_btc\",\n",
    "        \"exchange_trade_btc\",\n",
    "        \"transactions_btc\",\n",
    "        \"hash_rate_btc\",\n",
    "        \"difficulty_btc\",\n",
    "        \"miners_revenue_btc\"]\n",
    "\n",
    "mesures_data= [price_btc,\n",
    "        total_number_btc,\n",
    "        market_capitalization_btc,\n",
    "        address_btc,\n",
    "        exchange_trade_btc,\n",
    "        transactions_btc,\n",
    "        hash_rate_btc,\n",
    "        difficulty_btc,\n",
    "        miners_revenue_btc]"
   ]
  },
  {
   "cell_type": "code",
   "execution_count": 20,
   "metadata": {},
   "outputs": [
    {
     "name": "stdout",
     "output_type": "stream",
     "text": [
      "0 price_btc 3521 days 00:00:00 2018-08-25 00:00:00\n",
      "1 total_number_btc 3521 days 00:00:00 2018-08-25 00:00:00\n",
      "2 market_capitalization_btc 3521 days 00:00:00 2018-08-25 00:00:00\n",
      "3 address_btc 3521 days 00:00:00 2018-08-25 00:00:00\n",
      "4 exchange_trade_btc 3521 days 00:00:00 2018-08-25 00:00:00\n",
      "5 transactions_btc 3521 days 00:00:00 2018-08-25 00:00:00\n",
      "6 hash_rate_btc 3520 days 00:00:00 2018-08-25 00:00:00\n",
      "7 difficulty_btc 3521 days 00:00:00 2018-08-25 00:00:00\n",
      "8 miners_revenue_btc 3521 days 00:00:00 2018-08-25 00:00:00\n"
     ]
    }
   ],
   "source": [
    "# Preparación de un Dataframe con todos los indicadores e igualar los días para construir para todos los indicadores\n",
    "fecha=pd.Timestamp(2018, 8, 26)\n",
    "\n",
    "for i in range(len(mesures_name)):\n",
    "    if(mesures_data[i].index.max()== fecha):\n",
    "        mesures_data[i] = mesures_data[i].drop(mesures_data[i].index[len(mesures_data[i])-1])\n",
    "    print( i, mesures_name[i], mesures_data[i].index.max()-mesures_data[i].index.min(), mesures_data[i].index.max())"
   ]
  },
  {
   "cell_type": "code",
   "execution_count": 21,
   "metadata": {},
   "outputs": [],
   "source": [
    "# Se realiza una unión de los varios Dataframe en uno\n",
    "mesures_bitcoin = pd.concat(\n",
    "    [mesures_data[0],\n",
    "     mesures_data[1],\n",
    "     mesures_data[2],\n",
    "     mesures_data[3],\n",
    "     mesures_data[4],\n",
    "     mesures_data[5],\n",
    "     mesures_data[6],\n",
    "     mesures_data[7],\n",
    "     mesures_data[8]],axis=1\n",
    ")"
   ]
  },
  {
   "cell_type": "code",
   "execution_count": 22,
   "metadata": {},
   "outputs": [],
   "source": [
    "# Renombrar las columnas\n",
    "for i in range(len(mesures_name)):\n",
    "    mesures_bitcoin.columns.values[i] = mesures_name[i]"
   ]
  },
  {
   "cell_type": "code",
   "execution_count": 23,
   "metadata": {
    "scrolled": true
   },
   "outputs": [
    {
     "data": {
      "text/html": [
       "<div>\n",
       "<style scoped>\n",
       "    .dataframe tbody tr th:only-of-type {\n",
       "        vertical-align: middle;\n",
       "    }\n",
       "\n",
       "    .dataframe tbody tr th {\n",
       "        vertical-align: top;\n",
       "    }\n",
       "\n",
       "    .dataframe thead th {\n",
       "        text-align: right;\n",
       "    }\n",
       "</style>\n",
       "<table border=\"1\" class=\"dataframe\">\n",
       "  <thead>\n",
       "    <tr style=\"text-align: right;\">\n",
       "      <th></th>\n",
       "      <th>price_btc</th>\n",
       "      <th>total_number_btc</th>\n",
       "      <th>market_capitalization_btc</th>\n",
       "      <th>address_btc</th>\n",
       "      <th>exchange_trade_btc</th>\n",
       "      <th>transactions_btc</th>\n",
       "      <th>hash_rate_btc</th>\n",
       "      <th>difficulty_btc</th>\n",
       "      <th>miners_revenue_btc</th>\n",
       "    </tr>\n",
       "    <tr>\n",
       "      <th>Date</th>\n",
       "      <th></th>\n",
       "      <th></th>\n",
       "      <th></th>\n",
       "      <th></th>\n",
       "      <th></th>\n",
       "      <th></th>\n",
       "      <th></th>\n",
       "      <th></th>\n",
       "      <th></th>\n",
       "    </tr>\n",
       "  </thead>\n",
       "  <tbody>\n",
       "    <tr>\n",
       "      <th>2018-08-21</th>\n",
       "      <td>6434.559167</td>\n",
       "      <td>17221487.5</td>\n",
       "      <td>1.108127e+11</td>\n",
       "      <td>459855.0</td>\n",
       "      <td>2.784076e+08</td>\n",
       "      <td>214983.0</td>\n",
       "      <td>4.764220e+07</td>\n",
       "      <td>6.389317e+12</td>\n",
       "      <td>1.225187e+07</td>\n",
       "    </tr>\n",
       "    <tr>\n",
       "      <th>2018-08-22</th>\n",
       "      <td>6401.246154</td>\n",
       "      <td>17223337.5</td>\n",
       "      <td>1.102508e+11</td>\n",
       "      <td>449915.0</td>\n",
       "      <td>4.942757e+08</td>\n",
       "      <td>217777.0</td>\n",
       "      <td>4.700697e+07</td>\n",
       "      <td>6.389317e+12</td>\n",
       "      <td>1.200075e+07</td>\n",
       "    </tr>\n",
       "    <tr>\n",
       "      <th>2018-08-23</th>\n",
       "      <td>6575.229167</td>\n",
       "      <td>17225337.5</td>\n",
       "      <td>1.132605e+11</td>\n",
       "      <td>484462.0</td>\n",
       "      <td>5.786947e+08</td>\n",
       "      <td>230333.0</td>\n",
       "      <td>5.081835e+07</td>\n",
       "      <td>6.389317e+12</td>\n",
       "      <td>1.331007e+07</td>\n",
       "    </tr>\n",
       "    <tr>\n",
       "      <th>2018-08-24</th>\n",
       "      <td>6434.881667</td>\n",
       "      <td>17227200.0</td>\n",
       "      <td>1.108550e+11</td>\n",
       "      <td>444345.0</td>\n",
       "      <td>5.214981e+08</td>\n",
       "      <td>217352.0</td>\n",
       "      <td>4.732459e+07</td>\n",
       "      <td>6.389317e+12</td>\n",
       "      <td>1.210921e+07</td>\n",
       "    </tr>\n",
       "    <tr>\n",
       "      <th>2018-08-25</th>\n",
       "      <td>6543.645714</td>\n",
       "      <td>17229025.0</td>\n",
       "      <td>1.127406e+11</td>\n",
       "      <td>487990.0</td>\n",
       "      <td>3.094877e+08</td>\n",
       "      <td>219848.0</td>\n",
       "      <td>4.882418e+07</td>\n",
       "      <td>6.505039e+12</td>\n",
       "      <td>1.206749e+07</td>\n",
       "    </tr>\n",
       "  </tbody>\n",
       "</table>\n",
       "</div>"
      ],
      "text/plain": [
       "              price_btc  total_number_btc  market_capitalization_btc  \\\n",
       "Date                                                                   \n",
       "2018-08-21  6434.559167        17221487.5               1.108127e+11   \n",
       "2018-08-22  6401.246154        17223337.5               1.102508e+11   \n",
       "2018-08-23  6575.229167        17225337.5               1.132605e+11   \n",
       "2018-08-24  6434.881667        17227200.0               1.108550e+11   \n",
       "2018-08-25  6543.645714        17229025.0               1.127406e+11   \n",
       "\n",
       "            address_btc  exchange_trade_btc  transactions_btc  hash_rate_btc  \\\n",
       "Date                                                                           \n",
       "2018-08-21     459855.0        2.784076e+08          214983.0   4.764220e+07   \n",
       "2018-08-22     449915.0        4.942757e+08          217777.0   4.700697e+07   \n",
       "2018-08-23     484462.0        5.786947e+08          230333.0   5.081835e+07   \n",
       "2018-08-24     444345.0        5.214981e+08          217352.0   4.732459e+07   \n",
       "2018-08-25     487990.0        3.094877e+08          219848.0   4.882418e+07   \n",
       "\n",
       "            difficulty_btc  miners_revenue_btc  \n",
       "Date                                            \n",
       "2018-08-21    6.389317e+12        1.225187e+07  \n",
       "2018-08-22    6.389317e+12        1.200075e+07  \n",
       "2018-08-23    6.389317e+12        1.331007e+07  \n",
       "2018-08-24    6.389317e+12        1.210921e+07  \n",
       "2018-08-25    6.505039e+12        1.206749e+07  "
      ]
     },
     "execution_count": 23,
     "metadata": {},
     "output_type": "execute_result"
    }
   ],
   "source": [
    "mesures_bitcoin.tail()"
   ]
  },
  {
   "cell_type": "code",
   "execution_count": 24,
   "metadata": {},
   "outputs": [],
   "source": [
    "# Correlación de las variables\n",
    "mesures_correlacion = mesures_bitcoin.corr()"
   ]
  },
  {
   "cell_type": "code",
   "execution_count": 25,
   "metadata": {},
   "outputs": [
    {
     "data": {
      "text/html": [
       "<div>\n",
       "<style scoped>\n",
       "    .dataframe tbody tr th:only-of-type {\n",
       "        vertical-align: middle;\n",
       "    }\n",
       "\n",
       "    .dataframe tbody tr th {\n",
       "        vertical-align: top;\n",
       "    }\n",
       "\n",
       "    .dataframe thead th {\n",
       "        text-align: right;\n",
       "    }\n",
       "</style>\n",
       "<table border=\"1\" class=\"dataframe\">\n",
       "  <thead>\n",
       "    <tr style=\"text-align: right;\">\n",
       "      <th></th>\n",
       "      <th>price_btc</th>\n",
       "      <th>total_number_btc</th>\n",
       "      <th>market_capitalization_btc</th>\n",
       "      <th>address_btc</th>\n",
       "      <th>exchange_trade_btc</th>\n",
       "      <th>transactions_btc</th>\n",
       "      <th>hash_rate_btc</th>\n",
       "      <th>difficulty_btc</th>\n",
       "      <th>miners_revenue_btc</th>\n",
       "    </tr>\n",
       "  </thead>\n",
       "  <tbody>\n",
       "    <tr>\n",
       "      <th>price_btc</th>\n",
       "      <td>1.000000</td>\n",
       "      <td>0.465134</td>\n",
       "      <td>0.999782</td>\n",
       "      <td>0.677478</td>\n",
       "      <td>0.853488</td>\n",
       "      <td>0.582283</td>\n",
       "      <td>0.779903</td>\n",
       "      <td>0.775728</td>\n",
       "      <td>0.980981</td>\n",
       "    </tr>\n",
       "    <tr>\n",
       "      <th>total_number_btc</th>\n",
       "      <td>0.465134</td>\n",
       "      <td>1.000000</td>\n",
       "      <td>0.458457</td>\n",
       "      <td>0.808610</td>\n",
       "      <td>0.342171</td>\n",
       "      <td>0.818690</td>\n",
       "      <td>0.420175</td>\n",
       "      <td>0.421509</td>\n",
       "      <td>0.457854</td>\n",
       "    </tr>\n",
       "    <tr>\n",
       "      <th>market_capitalization_btc</th>\n",
       "      <td>0.999782</td>\n",
       "      <td>0.458457</td>\n",
       "      <td>1.000000</td>\n",
       "      <td>0.672858</td>\n",
       "      <td>0.852266</td>\n",
       "      <td>0.577893</td>\n",
       "      <td>0.786708</td>\n",
       "      <td>0.782611</td>\n",
       "      <td>0.978755</td>\n",
       "    </tr>\n",
       "    <tr>\n",
       "      <th>address_btc</th>\n",
       "      <td>0.677478</td>\n",
       "      <td>0.808610</td>\n",
       "      <td>0.672858</td>\n",
       "      <td>1.000000</td>\n",
       "      <td>0.568590</td>\n",
       "      <td>0.983264</td>\n",
       "      <td>0.514078</td>\n",
       "      <td>0.511148</td>\n",
       "      <td>0.674568</td>\n",
       "    </tr>\n",
       "    <tr>\n",
       "      <th>exchange_trade_btc</th>\n",
       "      <td>0.853488</td>\n",
       "      <td>0.342171</td>\n",
       "      <td>0.852266</td>\n",
       "      <td>0.568590</td>\n",
       "      <td>1.000000</td>\n",
       "      <td>0.482211</td>\n",
       "      <td>0.560481</td>\n",
       "      <td>0.554420</td>\n",
       "      <td>0.865675</td>\n",
       "    </tr>\n",
       "    <tr>\n",
       "      <th>transactions_btc</th>\n",
       "      <td>0.582283</td>\n",
       "      <td>0.818690</td>\n",
       "      <td>0.577893</td>\n",
       "      <td>0.983264</td>\n",
       "      <td>0.482211</td>\n",
       "      <td>1.000000</td>\n",
       "      <td>0.449453</td>\n",
       "      <td>0.446921</td>\n",
       "      <td>0.577882</td>\n",
       "    </tr>\n",
       "    <tr>\n",
       "      <th>hash_rate_btc</th>\n",
       "      <td>0.779903</td>\n",
       "      <td>0.420175</td>\n",
       "      <td>0.786708</td>\n",
       "      <td>0.514078</td>\n",
       "      <td>0.560481</td>\n",
       "      <td>0.449453</td>\n",
       "      <td>1.000000</td>\n",
       "      <td>0.994816</td>\n",
       "      <td>0.698855</td>\n",
       "    </tr>\n",
       "    <tr>\n",
       "      <th>difficulty_btc</th>\n",
       "      <td>0.775728</td>\n",
       "      <td>0.421509</td>\n",
       "      <td>0.782611</td>\n",
       "      <td>0.511148</td>\n",
       "      <td>0.554420</td>\n",
       "      <td>0.446921</td>\n",
       "      <td>0.994816</td>\n",
       "      <td>1.000000</td>\n",
       "      <td>0.685947</td>\n",
       "    </tr>\n",
       "    <tr>\n",
       "      <th>miners_revenue_btc</th>\n",
       "      <td>0.980981</td>\n",
       "      <td>0.457854</td>\n",
       "      <td>0.978755</td>\n",
       "      <td>0.674568</td>\n",
       "      <td>0.865675</td>\n",
       "      <td>0.577882</td>\n",
       "      <td>0.698855</td>\n",
       "      <td>0.685947</td>\n",
       "      <td>1.000000</td>\n",
       "    </tr>\n",
       "  </tbody>\n",
       "</table>\n",
       "</div>"
      ],
      "text/plain": [
       "                           price_btc  total_number_btc  \\\n",
       "price_btc                   1.000000          0.465134   \n",
       "total_number_btc            0.465134          1.000000   \n",
       "market_capitalization_btc   0.999782          0.458457   \n",
       "address_btc                 0.677478          0.808610   \n",
       "exchange_trade_btc          0.853488          0.342171   \n",
       "transactions_btc            0.582283          0.818690   \n",
       "hash_rate_btc               0.779903          0.420175   \n",
       "difficulty_btc              0.775728          0.421509   \n",
       "miners_revenue_btc          0.980981          0.457854   \n",
       "\n",
       "                           market_capitalization_btc  address_btc  \\\n",
       "price_btc                                   0.999782     0.677478   \n",
       "total_number_btc                            0.458457     0.808610   \n",
       "market_capitalization_btc                   1.000000     0.672858   \n",
       "address_btc                                 0.672858     1.000000   \n",
       "exchange_trade_btc                          0.852266     0.568590   \n",
       "transactions_btc                            0.577893     0.983264   \n",
       "hash_rate_btc                               0.786708     0.514078   \n",
       "difficulty_btc                              0.782611     0.511148   \n",
       "miners_revenue_btc                          0.978755     0.674568   \n",
       "\n",
       "                           exchange_trade_btc  transactions_btc  \\\n",
       "price_btc                            0.853488          0.582283   \n",
       "total_number_btc                     0.342171          0.818690   \n",
       "market_capitalization_btc            0.852266          0.577893   \n",
       "address_btc                          0.568590          0.983264   \n",
       "exchange_trade_btc                   1.000000          0.482211   \n",
       "transactions_btc                     0.482211          1.000000   \n",
       "hash_rate_btc                        0.560481          0.449453   \n",
       "difficulty_btc                       0.554420          0.446921   \n",
       "miners_revenue_btc                   0.865675          0.577882   \n",
       "\n",
       "                           hash_rate_btc  difficulty_btc  miners_revenue_btc  \n",
       "price_btc                       0.779903        0.775728            0.980981  \n",
       "total_number_btc                0.420175        0.421509            0.457854  \n",
       "market_capitalization_btc       0.786708        0.782611            0.978755  \n",
       "address_btc                     0.514078        0.511148            0.674568  \n",
       "exchange_trade_btc              0.560481        0.554420            0.865675  \n",
       "transactions_btc                0.449453        0.446921            0.577882  \n",
       "hash_rate_btc                   1.000000        0.994816            0.698855  \n",
       "difficulty_btc                  0.994816        1.000000            0.685947  \n",
       "miners_revenue_btc              0.698855        0.685947            1.000000  "
      ]
     },
     "execution_count": 25,
     "metadata": {},
     "output_type": "execute_result"
    }
   ],
   "source": [
    "# Correlación entre las variables\n",
    "mesures_correlacion"
   ]
  },
  {
   "cell_type": "code",
   "execution_count": 26,
   "metadata": {},
   "outputs": [
    {
     "data": {
      "text/plain": [
       "price_btc                    1.000000\n",
       "market_capitalization_btc    0.999782\n",
       "miners_revenue_btc           0.980981\n",
       "exchange_trade_btc           0.853488\n",
       "hash_rate_btc                0.779903\n",
       "difficulty_btc               0.775728\n",
       "address_btc                  0.677478\n",
       "transactions_btc             0.582283\n",
       "total_number_btc             0.465134\n",
       "Name: price_btc, dtype: float64"
      ]
     },
     "execution_count": 26,
     "metadata": {},
     "output_type": "execute_result"
    }
   ],
   "source": [
    "# Correlación entre las variables\n",
    "mesures_correlacion['price_btc'].sort_values(ascending=False)"
   ]
  },
  {
   "cell_type": "markdown",
   "metadata": {},
   "source": [
    "## <a name=\"4\"></a>4. Regresión Lineal"
   ]
  },
  {
   "cell_type": "code",
   "execution_count": 27,
   "metadata": {},
   "outputs": [
    {
     "name": "stdout",
     "output_type": "stream",
     "text": [
      "5202  días de entreno\n",
      " 495  días de test\n",
      " 54  días de evaluación\n",
      "\n",
      "price_btc                    578\n",
      "total_number_btc             578\n",
      "market_capitalization_btc    578\n",
      "address_btc                  578\n",
      "exchange_trade_btc           578\n",
      "transactions_btc             578\n",
      "hash_rate_btc                578\n",
      "difficulty_btc               578\n",
      "miners_revenue_btc           578\n",
      "dtype: int64  desde  2016-11-22  hasta  2018-06-22\n",
      "price_btc                    55\n",
      "total_number_btc             55\n",
      "market_capitalization_btc    55\n",
      "address_btc                  55\n",
      "exchange_trade_btc           55\n",
      "transactions_btc             55\n",
      "hash_rate_btc                55\n",
      "difficulty_btc               55\n",
      "miners_revenue_btc           55\n",
      "dtype: int64  desde  2018-06-23  hasta  2018-08-16\n",
      "price_btc                    6\n",
      "total_number_btc             6\n",
      "market_capitalization_btc    6\n",
      "address_btc                  6\n",
      "exchange_trade_btc           6\n",
      "transactions_btc             6\n",
      "hash_rate_btc                6\n",
      "difficulty_btc               6\n",
      "miners_revenue_btc           6\n",
      "dtype: int64  desde  2018-08-17  hasta  2018-08-22\n"
     ]
    }
   ],
   "source": [
    "# Crear los datos de entreno, test y evaluación\n",
    "# Entreno\n",
    "train_from_date = '2016-11-22'\n",
    "train_end_date =  '2018-06-22'\n",
    "# Test\n",
    "test_from_date = '2018-06-23'\n",
    "test_end_date = '2018-08-16'\n",
    "# Evaluación\n",
    "evaluation_from_date = '2018-08-17'\n",
    "evaluation_end_date = '2018-08-22'\n",
    "\n",
    "df_train = mesures_bitcoin.loc[train_from_date:train_end_date]\n",
    "df_test = mesures_bitcoin.loc[test_from_date:test_end_date]\n",
    "df_evaluation = mesures_bitcoin.loc[evaluation_from_date:evaluation_end_date]\n",
    "\n",
    "\n",
    "print(df_train.size,\" días de entreno\\n\",df_test.size,\" días de test\\n\",df_evaluation.size,\" días de evaluación\\n\")\n",
    "\n",
    "train_days = mesures_bitcoin.loc[train_from_date:train_end_date].count()\n",
    "test_days = mesures_bitcoin.loc[test_from_date:test_end_date].count()\n",
    "evalutacion_days = mesures_bitcoin.loc[evaluation_from_date:evaluation_end_date].count()\n",
    "print(train_days, \" desde \",train_from_date,\" hasta \",train_end_date )\n",
    "print(test_days, \" desde \",test_from_date,\" hasta \",test_end_date )\n",
    "print(evalutacion_days, \" desde \",evaluation_from_date,\" hasta \",evaluation_end_date )"
   ]
  },
  {
   "cell_type": "code",
   "execution_count": 167,
   "metadata": {},
   "outputs": [],
   "source": [
    "import pandas as pd\n",
    "import numpy as np\n",
    "import matplotlib.pylab as plt\n",
    "\n",
    "from sklearn.linear_model import LinearRegression\n",
    "from sklearn.metrics import r2_score\n",
    "\n",
    "import statsmodels.api as sm"
   ]
  },
  {
   "cell_type": "code",
   "execution_count": 61,
   "metadata": {},
   "outputs": [],
   "source": [
    "precio = df_test['price_btc']"
   ]
  },
  {
   "cell_type": "code",
   "execution_count": 169,
   "metadata": {},
   "outputs": [
    {
     "data": {
      "text/plain": [
       "55"
      ]
     },
     "execution_count": 169,
     "metadata": {},
     "output_type": "execute_result"
    }
   ],
   "source": [
    "precio.size"
   ]
  },
  {
   "cell_type": "code",
   "execution_count": 63,
   "metadata": {},
   "outputs": [],
   "source": [
    "precio = df_test['price_btc'][:, np.newaxis]"
   ]
  },
  {
   "cell_type": "code",
   "execution_count": 170,
   "metadata": {},
   "outputs": [
    {
     "data": {
      "text/plain": [
       "55"
      ]
     },
     "execution_count": 170,
     "metadata": {},
     "output_type": "execute_result"
    }
   ],
   "source": [
    "precio.size"
   ]
  },
  {
   "cell_type": "code",
   "execution_count": 65,
   "metadata": {},
   "outputs": [],
   "source": [
    "transaction = df_test['transactions_btc']"
   ]
  },
  {
   "cell_type": "code",
   "execution_count": 66,
   "metadata": {},
   "outputs": [],
   "source": [
    "lr = LinearRegression()\n",
    "lr.fit(precio, transaction)\n",
    "\n",
    "b_0   = lr.intercept_\n",
    "coeff = lr.coef_"
   ]
  },
  {
   "cell_type": "code",
   "execution_count": 67,
   "metadata": {},
   "outputs": [
    {
     "data": {
      "text/plain": [
       "99860.01521746955"
      ]
     },
     "execution_count": 67,
     "metadata": {},
     "output_type": "execute_result"
    }
   ],
   "source": [
    "b_0"
   ]
  },
  {
   "cell_type": "code",
   "execution_count": 68,
   "metadata": {},
   "outputs": [
    {
     "data": {
      "text/plain": [
       "array([15.50261834])"
      ]
     },
     "execution_count": 68,
     "metadata": {},
     "output_type": "execute_result"
    }
   ],
   "source": [
    "coeff"
   ]
  },
  {
   "cell_type": "code",
   "execution_count": 69,
   "metadata": {},
   "outputs": [],
   "source": [
    "test_precio = precio[1:len(precio)]\n",
    "test_transaction = transaction[1:len(transaction)]"
   ]
  },
  {
   "cell_type": "code",
   "execution_count": 70,
   "metadata": {},
   "outputs": [
    {
     "data": {
      "image/png": "[encoded data removed]",
      "text/plain": [
       "<Figure size 432x288 with 1 Axes>"
      ]
     },
     "metadata": {},
     "output_type": "display_data"
    }
   ],
   "source": [
    "# Let's predict the values for existing weeks (Testing)\n",
    "pred = lr.predict(test_precio)\n",
    "\n",
    "plt.scatter(precio, transaction, color='b')\n",
    "plt.scatter(test_precio, pred, color='red')\n",
    "plt.show()"
   ]
  },
  {
   "cell_type": "code",
   "execution_count": null,
   "metadata": {},
   "outputs": [],
   "source": []
  },
  {
   "cell_type": "markdown",
   "metadata": {},
   "source": [
    "### Regresión de Múltiples Variables"
   ]
  },
  {
   "cell_type": "code",
   "execution_count": 116,
   "metadata": {},
   "outputs": [],
   "source": [
    "# Variable independientes\n",
    "X = mesures_bitcoin.loc[\"2016-01-01\":,\"total_number_btc\":]\n",
    "# Variables predictoras\n",
    "y = mesures_bitcoin.loc[\"2016-01-01\":,\"price_btc\"]"
   ]
  },
  {
   "cell_type": "code",
   "execution_count": 123,
   "metadata": {},
   "outputs": [
    {
     "name": "stdout",
     "output_type": "stream",
     "text": [
      "[407.56932789 408.19785705 422.20202612 411.00440603 419.54319589]\n",
      "[6409.11942322 6375.56690664 6550.08888559 6410.19717087 6520.83834743]\n"
     ]
    }
   ],
   "source": [
    "from sklearn import linear_model\n",
    "from sklearn.metrics import mean_squared_error\n",
    "\n",
    "# Creamos el objeto mesures_bitcoinde Regresión Linear\n",
    "lm = linear_model.LinearRegression()\n",
    "\n",
    "# Entrenamos nuestro modelo\n",
    "model = lm.fit(X,y)\n",
    "\n",
    "predictions = lm.predict(X)\n",
    "\n",
    "print(predictions[:5])\n",
    "print(predictions[-5:])"
   ]
  },
  {
   "cell_type": "code",
   "execution_count": 160,
   "metadata": {},
   "outputs": [
    {
     "name": "stdout",
     "output_type": "stream",
     "text": [
      "Los coeficientes son: \n",
      "\n",
      "3.331100883458463e-05    price_btc\n",
      "5.9179668227590564e-08    total_number_btc\n",
      "0.000173781619359967    market_capitalization_btc\n",
      "5.217780973468296e-09    address_btc\n",
      "-0.0002827962184966588    exchange_trade_btc\n",
      "-2.392254994896911e-06    transactions_btc\n",
      "-2.691559740006255e-11    hash_rate_btc\n",
      "1.9595479717079308e-06    difficulty_btc\n"
     ]
    }
   ],
   "source": [
    "print(\"Los coeficientes son: \\n\")\n",
    "for i in range(len(mesures_name)-1):\n",
    "    print( lm.coef_[i] ,\"  \",mesures_name[i])"
   ]
  },
  {
   "cell_type": "code",
   "execution_count": 161,
   "metadata": {},
   "outputs": [
    {
     "name": "stdout",
     "output_type": "stream",
     "text": [
      "El error cuadratico medio es :\n",
      " 1300.249630291416\n"
     ]
    }
   ],
   "source": [
    "print(\"El error cuadratico medio es :\\n\",mean_squared_error(y, predictions))"
   ]
  },
  {
   "cell_type": "code",
   "execution_count": 163,
   "metadata": {},
   "outputs": [
    {
     "name": "stdout",
     "output_type": "stream",
     "text": [
      "La varianza es:\n",
      " 0.9999235605258467\n"
     ]
    }
   ],
   "source": [
    "print(\"La varianza es:\\n\",lm.score(X,y))\n"
   ]
  },
  {
   "cell_type": "code",
   "execution_count": 165,
   "metadata": {
    "scrolled": true
   },
   "outputs": [
    {
     "name": "stdout",
     "output_type": "stream",
     "text": [
      "La varianza es:\n",
      " 0.9999235605258467\n"
     ]
    }
   ],
   "source": [
    "print(\"La varianza es:\\n\",r2_score(y, predictions))"
   ]
  },
  {
   "cell_type": "code",
   "execution_count": 158,
   "metadata": {},
   "outputs": [
    {
     "data": {
      "text/plain": [
       "-481.0375373329207"
      ]
     },
     "execution_count": 158,
     "metadata": {},
     "output_type": "execute_result"
    }
   ],
   "source": [
    "lm.intercept_"
   ]
  },
  {
   "cell_type": "code",
   "execution_count": 172,
   "metadata": {},
   "outputs": [
    {
     "name": "stdout",
     "output_type": "stream",
     "text": [
      "                            OLS Regression Results                            \n",
      "==============================================================================\n",
      "Dep. Variable:              price_btc   R-squared:                       1.000\n",
      "Model:                            OLS   Adj. R-squared:                  1.000\n",
      "Method:                 Least Squares   F-statistic:                 1.568e+06\n",
      "Date:                Wed, 29 Aug 2018   Prob (F-statistic):               0.00\n",
      "Time:                        20:54:55   Log-Likelihood:                -4844.0\n",
      "No. Observations:                 968   AIC:                             9706.\n",
      "Df Residuals:                     959   BIC:                             9750.\n",
      "Df Model:                           8                                         \n",
      "Covariance Type:            nonrobust                                         \n",
      "=============================================================================================\n",
      "                                coef    std err          t      P>|t|      [0.025      0.975]\n",
      "---------------------------------------------------------------------------------------------\n",
      "const                      -481.0375     77.626     -6.197      0.000    -633.374    -328.702\n",
      "total_number_btc           3.331e-05   5.18e-06      6.425      0.000    2.31e-05    4.35e-05\n",
      "market_capitalization_btc  5.918e-08    1.5e-10    393.808      0.000    5.89e-08    5.95e-08\n",
      "address_btc                   0.0002    3.9e-05      4.451      0.000    9.72e-05       0.000\n",
      "exchange_trade_btc         5.218e-09   4.09e-09      1.277      0.202    -2.8e-09    1.32e-08\n",
      "transactions_btc             -0.0003   7.02e-05     -4.030      0.000      -0.000      -0.000\n",
      "hash_rate_btc             -2.392e-06   8.87e-07     -2.696      0.007   -4.13e-06   -6.51e-07\n",
      "difficulty_btc            -2.692e-11   7.04e-12     -3.826      0.000   -4.07e-11   -1.31e-11\n",
      "miners_revenue_btc          1.96e-06   9.93e-07      1.974      0.049    1.12e-08    3.91e-06\n",
      "==============================================================================\n",
      "Omnibus:                      534.067   Durbin-Watson:                   1.547\n",
      "Prob(Omnibus):                  0.000   Jarque-Bera (JB):           139417.433\n",
      "Skew:                           1.319   Prob(JB):                         0.00\n",
      "Kurtosis:                      61.734   Cond. No.                     1.44e+14\n",
      "==============================================================================\n",
      "\n",
      "Warnings:\n",
      "[1] Standard Errors assume that the covariance matrix of the errors is correctly specified.\n",
      "[2] The condition number is large, 1.44e+14. This might indicate that there are\n",
      "strong multicollinearity or other numerical problems.\n"
     ]
    }
   ],
   "source": [
    "# with statsmodels\n",
    "X = sm.add_constant(X) # adding a constant\n",
    "  \n",
    "model = sm.OLS(y, X).fit()\n",
    "predictions = model.predict(X) \n",
    "  \n",
    "print_model = model.summary()\n",
    "print(print_model)"
   ]
  },
  {
   "cell_type": "code",
   "execution_count": null,
   "metadata": {},
   "outputs": [],
   "source": []
  }
 ],
 "metadata": {
  "kernelspec": {
   "display_name": "Python [conda env:cryptocurrency_prediction]",
   "language": "python",
   "name": "conda-env-cryptocurrency_prediction-py"
  },
  "language_info": {
   "codemirror_mode": {
    "name": "ipython",
    "version": 3
   },
   "file_extension": ".py",
   "mimetype": "text/x-python",
   "name": "python",
   "nbconvert_exporter": "python",
   "pygments_lexer": "ipython3",
   "version": "3.6.5"
  }
 },
 "nbformat": 4,
 "nbformat_minor": 2
}
