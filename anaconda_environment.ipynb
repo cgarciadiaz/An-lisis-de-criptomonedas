{
 "cells": [
  {
   "cell_type": "code",
   "execution_count": null,
   "metadata": {},
   "outputs": [],
   "source": [
    "\"\"\"Configurar entorno virtuales en anaconda\"\"\"\n",
    "#Abrir Anaconda Prompt como administrador\n",
    "\n",
    "#Primero comprobar si tenemos conda actualizado\n",
    "conda update conda\n",
    "\n",
	"#Comprobar la version de anaconda\n",
    "conda list anaconda\n",
    "\n",
    "#Buscar las versiones de python que tenemos instaladas en nuestro sistema\n",
    "conda search python\n",
    "\n",
    "#Una vez sabemos cual es la versión que querremos, cramos el entorno virtual, donde x.x es la versión de python\n",
    "#conda create -n nombre_del_entorno python=x.x anaconda\n",
    "conda create -n criptocurrency python=3.6.0 anaconda\n",
    "\n",
    "#Activamos el entorno\n",
    "conda activate criptocurrency\n",
    "\n",
    "#Despues de usar el entorno lo desactivamos de la siguiente forma\n",
    "conda deactivate\n",
    "\n",
    "#Para listar todos los entornos virtuales creados\n",
    "conda info -e\n",
    "\n",
    "#Para eliminar un entorno virtual\n",
    "#condo remove -nombre_del_entorno -all\n",
    "conda remove -n criptocurrency python=3.6.0 anaconda\n",
    "\n",
    "\"\"\"Configurar entorno virtual de criptomonedas en anaconda\"\"\"\n",
    "#Abrir Anaconda Prompt como administrador\n",
    "\n",
    "#Primero comprobar si tenemos conda actualizado\n",
    "conda update conda\n",
    "\n",
    "#Instalar el paquete quandl --> URL: \"https://www.quandl.com/\"\n",
    "conda install -c anaconda quandl\n",
    "\n",
    "#Instalar el paquete plotly --> URL:\"https://plot.ly/\"\n",
    "conda install -c anaconda plotly\n",
	"\n",
	"#Instalar el paquete nodejs --> URL:\"https://nodejs.org/en/\"\n",
    "conda install -c anaconda nodejs\n",
	"\n",
	"#Instalar el paquete npm --> URL:\"https://www.npmjs.com/\"\n",
    "conda install -c cpcloud npm\n",
	"\n",
    "#Buscar las versiones de python que tenemos instaladas en nuestro sistema\n",
    "conda search python"
   ]
  }
 ],
 "metadata": {
  "kernelspec": {
   "display_name": "Python 3",
   "language": "python",
   "name": "python3"
  },
  "language_info": {
   "codemirror_mode": {
    "name": "ipython",
    "version": 3
   },
   "file_extension": ".py",
   "mimetype": "text/x-python",
   "name": "python",
   "nbconvert_exporter": "python",
   "pygments_lexer": "ipython3",
   "version": "3.6.4"
  }
 },
 "nbformat": 4,
 "nbformat_minor": 2
}
